{
 "cells": [
  {
   "cell_type": "markdown",
   "metadata": {},
   "source": [
    "# Working with parquet files\n",
    "\n",
    "## Objective\n",
    "\n",
    "+ In this assignment, we will use the data downloaded with the module `data_manager` to create features.\n",
    "\n",
    "(11 pts total)\n",
    "\n",
    "## Prerequisites\n",
    "\n",
    "+ This notebook assumes that price data is available to you in the environment variable `PRICE_DATA`. If you have not done so, then execute the notebook `01_materials/labs/2_data_engineering.ipynb` to create this data set.\n"
   ]
  },
  {
   "cell_type": "markdown",
   "metadata": {},
   "source": [
    "+ Load the environment variables using dotenv. (1 pt)"
   ]
  },
  {
   "cell_type": "code",
   "execution_count": 81,
   "metadata": {},
   "outputs": [
    {
     "name": "stdout",
     "output_type": "stream",
     "text": [
      "The dotenv extension is already loaded. To reload it, use:\n",
      "  %reload_ext dotenv\n"
     ]
    }
   ],
   "source": [
    "# Write your code below.\n",
    "%load_ext dotenv\n",
    "%dotenv\n"
   ]
  },
  {
   "cell_type": "code",
   "execution_count": 82,
   "metadata": {},
   "outputs": [],
   "source": [
    "import dask.dataframe as dd"
   ]
  },
  {
   "cell_type": "markdown",
   "metadata": {},
   "source": [
    "+ Load the environment variable `PRICE_DATA`.\n",
    "+ Use [glob](https://docs.python.org/3/library/glob.html) to find the path of all parquet files in the directory `PRICE_DATA`.\n",
    "\n",
    "(1pt)"
   ]
  },
  {
   "cell_type": "code",
   "execution_count": 83,
   "metadata": {},
   "outputs": [],
   "source": [
    "import os\n",
    "from glob import glob\n",
    "import pandas as pd\n",
    "\n",
    "# Load PRICE_DATA environment variable and find parquet files\n",
    "PRICE_DATA_DIR = os.getenv(\"PRICE_DATA\")\n",
    "PRICE_DATA_FILES = glob(os.path.join(PRICE_DATA_DIR, \"**/*.parquet\"), recursive=True)\n",
    "\n",
    "# Read parquet files into Dask DataFrame\n",
    "dd_prices = dd.read_parquet(PRICE_DATA_FILES)\n",
    "\n",
    "# to verify the path\n",
    "# print(\"PRICE_DATA path is constructed as:\", PRICE_DATA_DIR)\n",
    "\n",
    "# convert to pandas DataFrame for checking\n",
    "# pandas_df = dd_prices.compute() \n",
    "\n",
    "# to see the first few rows to make sure it works as expected\n",
    "# print(pandas_df.head())"
   ]
  },
  {
   "cell_type": "markdown",
   "metadata": {},
   "source": [
    "For each ticker and using Dask, do the following:\n",
    "\n",
    "+ Add lags for variables Close and Adj_Close.\n",
    "+ Add returns based on Close:\n",
    "    \n",
    "    - `returns`: (Close / Close_lag_1) - 1\n",
    "\n",
    "+ Add the following range: \n",
    "\n",
    "    - `hi_lo_range`: this is the day's High minus Low.\n",
    "\n",
    "+ Assign the result to `dd_feat`.\n",
    "\n",
    "(4 pt)"
   ]
  },
  {
   "cell_type": "code",
   "execution_count": 84,
   "metadata": {},
   "outputs": [
    {
     "name": "stderr",
     "output_type": "stream",
     "text": [
      "C:\\Users\\mdmee\\AppData\\Local\\Temp\\ipykernel_105280\\3826581830.py:14: UserWarning: `meta` is not specified, inferred from partial data. Please provide `meta` if the result is unexpected.\n",
      "  Before: .apply(func)\n",
      "  After:  .apply(func, meta={'x': 'f8', 'y': 'f8'}) for dataframe result\n",
      "  or:     .apply(func, meta=('x', 'f8'))            for series result\n",
      "  dd_feat = dd_px.groupby('ticker', group_keys=False).apply(calculate_returns_and_ranges)\n"
     ]
    }
   ],
   "source": [
    "# Write your code below.\n",
    "def calculate_returns_and_ranges(df):\n",
    "    df = df.assign(close_lag_1=lambda x: x['Close'].shift(1))\n",
    "    df = df.assign(adj_close_lag_1=lambda x: x['Adj Close'].shift(1))\n",
    "    df = df.assign(returns=lambda x: x['Close'] / x['close_lag_1'] - 1)\n",
    "    df = df.assign(adj_returns=lambda x: x['Adj Close'] / x['adj_close_lag_1'] - 1)\n",
    "    df = df.assign(hi_lo_range=lambda x: x['High'] - x['Low'])\n",
    "    return df\n",
    "\n",
    "# Read all files as one dask DataFrame\n",
    "dd_px = dd.read_parquet(PRICE_DATA_FILES).set_index(\"ticker\")\n",
    "\n",
    "# Group by ticker and apply calculations and assign the result to `dd_feat`.\n",
    "dd_feat = dd_px.groupby('ticker', group_keys=False).apply(calculate_returns_and_ranges)\n"
   ]
  },
  {
   "cell_type": "markdown",
   "metadata": {},
   "source": [
    "+ Convert the Dask data frame to a pandas data frame. \n",
    "+ Add a new feature containing the moving average of `returns` using a window of 10 days. There are several ways to solve this task, a simple one uses `.rolling(10).mean()`.\n",
    "\n",
    "(3 pt)"
   ]
  },
  {
   "cell_type": "code",
   "execution_count": 85,
   "metadata": {},
   "outputs": [
    {
     "name": "stdout",
     "output_type": "stream",
     "text": [
      "             Date   Open   High    Low  Close  Adj Close    Volume    source  \\\n",
      "ticker                                                                         \n",
      "AAOI   2013-09-26  10.00  10.09   9.37   9.96       9.96  946000.0  AAOI.csv   \n",
      "AAOI   2013-09-27  10.44  10.44  10.00  10.10      10.10  253300.0  AAOI.csv   \n",
      "AAOI   2013-09-30  10.00  10.18   9.71  10.00      10.00   84900.0  AAOI.csv   \n",
      "AAOI   2013-10-01   9.95  10.02   9.92  10.00      10.00   74500.0  AAOI.csv   \n",
      "AAOI   2013-10-02   9.99  10.00   9.89   9.97       9.97   94000.0  AAOI.csv   \n",
      "\n",
      "        Year  close_lag_1  adj_close_lag_1   returns  adj_returns  \\\n",
      "ticker                                                              \n",
      "AAOI    2013          NaN              NaN       NaN          NaN   \n",
      "AAOI    2013         9.96             9.96  0.014056     0.014056   \n",
      "AAOI    2013        10.10            10.10 -0.009901    -0.009901   \n",
      "AAOI    2013        10.00            10.00  0.000000     0.000000   \n",
      "AAOI    2013        10.00            10.00 -0.003000    -0.003000   \n",
      "\n",
      "        hi_lo_range  returns_moving_avg  \n",
      "ticker                                   \n",
      "AAOI           0.72                 NaN  \n",
      "AAOI           0.44                 NaN  \n",
      "AAOI           0.47                 NaN  \n",
      "AAOI           0.10                 NaN  \n",
      "AAOI           0.11                 NaN  \n"
     ]
    }
   ],
   "source": [
    "# Write your code below.\n",
    "# Convert to pandas DataFrame\n",
    "pdf_feat = dd_feat.compute()\n",
    "\n",
    "# Calculate the moving average of returns with a window of 10 days\n",
    "pdf_feat['returns_moving_avg'] = pdf_feat.groupby('ticker')['returns'].rolling(window=10).mean().reset_index(level=0, drop=True)\n",
    "\n",
    "# Display the first few lines of the pandas DataFrame\n",
    "print(pdf_feat.head())\n"
   ]
  },
  {
   "cell_type": "markdown",
   "metadata": {},
   "source": [
    "Please comment:\n",
    "\n",
    "+ Was it necessary to convert to pandas to calculate the moving average return?\n",
    "+ Would it have been better to do it in Dask? Why?\n",
    "\n",
    "(1 pt)"
   ]
  },
  {
   "cell_type": "markdown",
   "metadata": {},
   "source": [
    "No, it was not strictly necessary to convert to pandas to calculate the moving average."
   ]
  },
  {
   "cell_type": "markdown",
   "metadata": {},
   "source": [
    "Yes, I think it would have been better to do it in Dask. Because, Dask is often better for handling larger-than-memory datasets efficiently, distributing computations across multiple cores or clusters, and avoiding loading the entire dataset into memory. This could have saved us some time as we calculated the moving average using the rolling feature."
   ]
  },
  {
   "cell_type": "markdown",
   "metadata": {},
   "source": [
    "## Criteria\n",
    "\n",
    "The [rubric](./assignment_1_rubric_clean.xlsx) contains the criteria for grading."
   ]
  },
  {
   "cell_type": "markdown",
   "metadata": {},
   "source": [
    "## Submission Information\n",
    "\n",
    "🚨 **Please review our [Assignment Submission Guide](https://github.com/UofT-DSI/onboarding/blob/main/onboarding_documents/submissions.md)** 🚨 for detailed instructions on how to format, branch, and submit your work. Following these guidelines is crucial for your submissions to be evaluated correctly.\n",
    "\n",
    "### Submission Parameters:\n",
    "* Submission Due Date: `HH:MM AM/PM - DD/MM/YYYY`\n",
    "* The branch name for your repo should be: `assignment-1`\n",
    "* What to submit for this assignment:\n",
    "    * This Jupyter Notebook (assignment_1.ipynb) should be populated and should be the only change in your pull request.\n",
    "* What the pull request link should look like for this assignment: `https://github.com/<your_github_username>/production/pull/<pr_id>`\n",
    "    * Open a private window in your browser. Copy and paste the link to your pull request into the address bar. Make sure you can see your pull request properly. This helps the technical facilitator and learning support staff review your submission easily.\n",
    "\n",
    "Checklist:\n",
    "- [X] Created a branch with the correct naming convention.\n",
    "- [X] Ensured that the repository is public.\n",
    "- [X] Reviewed the PR description guidelines and adhered to them.\n",
    "- [X] Verify that the link is accessible in a private browser window.\n",
    "\n",
    "If you encounter any difficulties or have questions, please don't hesitate to reach out to our team via our Slack at `#cohort-3-help`. Our Technical Facilitators and Learning Support staff are here to help you navigate any challenges."
   ]
  }
 ],
 "metadata": {
  "kernelspec": {
   "display_name": "dsi_participant",
   "language": "python",
   "name": "python3"
  },
  "language_info": {
   "codemirror_mode": {
    "name": "ipython",
    "version": 3
   },
   "file_extension": ".py",
   "mimetype": "text/x-python",
   "name": "python",
   "nbconvert_exporter": "python",
   "pygments_lexer": "ipython3",
   "version": "3.9.15"
  }
 },
 "nbformat": 4,
 "nbformat_minor": 2
}
